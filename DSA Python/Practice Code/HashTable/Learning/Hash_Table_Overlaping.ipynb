{
 "cells": [
  {
   "cell_type": "code",
   "execution_count": 59,
   "metadata": {},
   "outputs": [],
   "source": [
    "class HashTable:\n",
    "\n",
    "    def __init__(self):\n",
    "        self.MAX=10\n",
    "        self.arr=[[] for i in range(self.MAX)]\n",
    "\n",
    "\n",
    "    def getHash(self,key):\n",
    "        sum=0\n",
    "        for element in key:\n",
    "            sum+=ord(element)\n",
    "\n",
    "        return sum%self.MAX\n",
    "\n",
    "    def __setitem__(self,key,val):\n",
    "        index=self.getHash(key)\n",
    "\n",
    "        Found=False\n",
    "\n",
    "        for pos,kv in enumerate(self.arr[index]):\n",
    "\n",
    "            if len(kv)==2 and kv[0]==key:\n",
    "                self.arr[index][pos]=(key,val)\n",
    "                Found=True\n",
    "            \n",
    "        if not Found:\n",
    "                self.arr[index].append((key,val))\n",
    "\n",
    "    def __getitem__(self,key):\n",
    "        \n",
    "        index=self.getHash(key)\n",
    "\n",
    "        for kv in self.arr[index]:\n",
    "            if(kv[0]==key):\n",
    "                return kv[1]\n",
    "           \n",
    "\n",
    "    def __delitem__(self,key):\n",
    "        index=self.getHash(key)\n",
    "\n",
    "        for pos,kv in enumerate(self.arr[index]):\n",
    "            if(kv[0]==key):\n",
    "                print(f'deleting value at index {pos}')\n",
    "                del self.arr[index][pos]\n",
    "\n",
    "\n",
    "        \n"
   ]
  },
  {
   "cell_type": "code",
   "execution_count": 65,
   "metadata": {},
   "outputs": [
    {
     "name": "stdout",
     "output_type": "stream",
     "text": [
      "[[('March 10', 225)], [], [], [], [], [], [], [('March 6', 340), ('March 17', 800)], [], [('March 8', 466), ('March 19', 45)]]\n",
      "deleting value at index 1\n",
      "[[('March 10', 225)], [], [], [], [], [], [], [('March 6', 340), ('March 17', 800)], [], [('March 8', 466)]]\n",
      "None\n"
     ]
    }
   ],
   "source": [
    "H=HashTable()\n",
    "\n",
    "H['March 6']=340\n",
    "H['March 8']=445\n",
    "H['March 10']=225\n",
    "H['March 17']=800\n",
    "H['March 19']=45\n",
    "H['March 8']=466\n",
    "print(H.arr)\n",
    "del H['March 19']\n",
    "#print(H['March 8'])\n",
    "print(H.arr)\n",
    "print(H['March 19'])"
   ]
  },
  {
   "cell_type": "code",
   "execution_count": null,
   "metadata": {},
   "outputs": [],
   "source": []
  }
 ],
 "metadata": {
  "kernelspec": {
   "display_name": "Python 3",
   "language": "python",
   "name": "python3"
  },
  "language_info": {
   "codemirror_mode": {
    "name": "ipython",
    "version": 3
   },
   "file_extension": ".py",
   "mimetype": "text/x-python",
   "name": "python",
   "nbconvert_exporter": "python",
   "pygments_lexer": "ipython3",
   "version": "3.10.0"
  }
 },
 "nbformat": 4,
 "nbformat_minor": 2
}

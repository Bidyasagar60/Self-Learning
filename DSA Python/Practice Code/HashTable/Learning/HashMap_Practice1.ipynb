{
 "cells": [
  {
   "cell_type": "code",
   "execution_count": null,
   "metadata": {},
   "outputs": [],
   "source": [
    "\"\"\"\n",
    "date\ttemperature(F)\n",
    "Jan-01\t27\n",
    "Jan-02\t31\n",
    "Jan-03\t23\n",
    "Jan-04\t34\n",
    "Jan-05\t37\n",
    "Jan-06\t38\n",
    "Jan-07\t29\n",
    "Jan-08\t30\n",
    "Jan-09\t35\n",
    "Jan-10\t30\n",
    "\"\"\""
   ]
  },
  {
   "cell_type": "code",
   "execution_count": 94,
   "metadata": {},
   "outputs": [],
   "source": [
    "class HashTable:\n",
    "\n",
    "    def __init__(self):\n",
    "        self.MAX=15\n",
    "        self.arr=[[] for i in range(self.MAX)]\n",
    "\n",
    "    def getHash(self,key):\n",
    "        sum=0\n",
    "        for lt in key:\n",
    "            sum+=ord(lt)\n",
    "        \n",
    "        return sum%self.MAX\n",
    "\n",
    "    def __setitem__(self,key,val):\n",
    "        \n",
    "        index=self.getHash(key)\n",
    "        \n",
    "        Found=False\n",
    "\n",
    "        for pos,element in  enumerate(self.arr[index]):\n",
    "\n",
    "            if len(element)==2 and element[0]==key:\n",
    "                self.arr[index][pos]=(key,val)\n",
    "                Found=True\n",
    "                print('Executed')\n",
    "                \n",
    "        if not Found:\n",
    "            self.arr[index].append((key,val))\n",
    "\n",
    "    def __getitem__(self,key):\n",
    "\n",
    "        index=self.getHash(key)\n",
    "\n",
    "        for element in self.arr[index]:\n",
    "            if (element[0]==key):\n",
    "                return element[1]\n",
    "\n",
    "\n",
    "        \n",
    "\n"
   ]
  },
  {
   "cell_type": "code",
   "execution_count": 103,
   "metadata": {},
   "outputs": [
    {
     "name": "stdout",
     "output_type": "stream",
     "text": [
      "219\n",
      "38\n"
     ]
    }
   ],
   "source": [
    "Ht=HashTable()\n",
    "\n",
    "Ht['Jan-01']=27\n",
    "Ht['Jan-02']=31\n",
    "Ht['Jan-03']=23\n",
    "Ht['Jan-04']=34\n",
    "Ht['Jan-05']=37\n",
    "Ht['Jan-06']=38\n",
    "Ht['Jan-07']=29\n",
    "Ht['Jan-08']=30\n",
    "Ht['Jan-09']=35\n",
    "Ht['Jan-10']=30\n",
    "\n",
    "def week1_avg():\n",
    "    Week1=['Jan-01','Jan-02','Jan-03','Jan-04','Jan-05','Jan-06','Jan-07']\n",
    "    Sum=0\n",
    "    for day in Week1:\n",
    "        if Ht[day] != None:\n",
    "            Sum+=Ht[day]\n",
    "    return Sum\n",
    "\n",
    "def max_temp():\n",
    "    Days=['Jan-01','Jan-02','Jan-03','Jan-04','Jan-05','Jan-06','Jan-07','Jan-08','Jan-09','Jan-10']\n",
    "    Max=0\n",
    "    for day in Week1:\n",
    "        if Ht[day] != None:\n",
    "            if Ht[day] > Max:\n",
    "                Max=Ht[day]\n",
    "    return Max\n",
    "\n",
    "print(week1_avg())\n",
    "\n",
    "print(max_temp())"
   ]
  },
  {
   "cell_type": "code",
   "execution_count": 89,
   "metadata": {},
   "outputs": [],
   "source": []
  },
  {
   "cell_type": "code",
   "execution_count": null,
   "metadata": {},
   "outputs": [],
   "source": [
    "for "
   ]
  }
 ],
 "metadata": {
  "kernelspec": {
   "display_name": "Python 3",
   "language": "python",
   "name": "python3"
  },
  "language_info": {
   "codemirror_mode": {
    "name": "ipython",
    "version": 3
   },
   "file_extension": ".py",
   "mimetype": "text/x-python",
   "name": "python",
   "nbconvert_exporter": "python",
   "pygments_lexer": "ipython3",
   "version": "3.10.0"
  }
 },
 "nbformat": 4,
 "nbformat_minor": 2
}
